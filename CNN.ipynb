{
 "cells": [
  {
   "cell_type": "markdown",
   "metadata": {},
   "source": [
    "# Speech Emotion Recognition using CNN with RAVDESS dataset\n",
    "\n",
    "You can run this notebook on local machine using Jupyter Notebook, or on Google Colab if you want to save some disk space. For Google Colab, you will mount this notebook to your Google Drive, download/save the dataset in the Drive."
   ]
  },
  {
   "cell_type": "markdown",
   "metadata": {
    "colab_type": "text",
    "id": "eKsVMFWJ_NIV"
   },
   "source": [
    "#### About RAVDESS dataset\n",
    "\n",
    "This is the Ryerson Audio-Visual Database of Emotional Speech and Song dataset, and is free to download. This dataset has 7356 files rated by 247 individuals 10 times on emotional validity, intensity, and genuineness. The entire dataset is 24.8GB from 24 actors, but we’ve lowered the sample rate on all the files. In our model, we are taking the `emotion` (third identifier) in consideration only.\n",
    "\n",
    "**File naming convention**\n",
    "\n",
    "Each of the 7356 RAVDESS files has a unique filename. The filename consists of a 7-part numerical identifier (e.g., 02-01-06-01-02-01-12.mp4). These identifiers define the stimulus characteristics: \n",
    "\n",
    "**Filename identifiers**\n",
    "\n",
    "- Modality (01 = full-AV, 02 = video-only, 03 = audio-only).\n",
    "- Vocal channel (01 = speech, 02 = song).\n",
    "- Emotion (01 = neutral, 02 = calm, 03 = happy, 04 = sad, 05 = angry, 06 = fearful, 07 = disgust, 08 = surprised).\n",
    "- Emotional intensity (01 = normal, 02 = strong). NOTE: There is no strong intensity for the 'neutral' emotion.\n",
    "- Statement (01 = \"Kids are talking by the door\", 02 = \"Dogs are sitting by the door\").\n",
    "- Repetition (01 = 1st repetition, 02 = 2nd repetition).\n",
    "- Actor (01 to 24. Odd numbered actors are male, even numbered actors are female).\n",
    "\n",
    "Download the dateset [here](https://drive.google.com/file/d/1wWsrN2Ep7x6lWqOXfr4rpKGYrJhWc8z7/view?usp=sharing). Read more about the dataset [here](https://zenodo.org/record/1188976)."
   ]
  },
  {
   "cell_type": "code",
   "execution_count": 1,
   "metadata": {},
   "outputs": [],
   "source": [
    "data_directory = \"data/ravdess\""
   ]
  },
  {
   "cell_type": "markdown",
   "metadata": {},
   "source": [
    "## 1. Download the dataset\n",
    "\n",
    "**Local**\n",
    "\n",
    "Download the dataset from [here](https://drive.google.com/file/d/1wWsrN2Ep7x6lWqOXfr4rpKGYrJhWc8z7/view) and unzip to `data_directory` , and proceed to **[2. Install and import library](#2.-Install-and-import-libraries)**\n",
    "\n",
    "**Google Colab**\n",
    "\n",
    "Change this, your project directory. If you are using Colab, it will look like gdrive/My Drive/speech-emotion-recognition ."
   ]
  },
  {
   "cell_type": "code",
   "execution_count": null,
   "metadata": {},
   "outputs": [],
   "source": [
    "root_path = '/'"
   ]
  },
  {
   "cell_type": "code",
   "execution_count": null,
   "metadata": {
    "colab": {},
    "colab_type": "code",
    "id": "SXyVx3ovEwUV"
   },
   "outputs": [],
   "source": [
    "import os\n",
    "os.chdir(root_path)"
   ]
  },
  {
   "cell_type": "code",
   "execution_count": null,
   "metadata": {
    "colab": {
     "base_uri": "https://localhost:8080/",
     "height": 272
    },
    "colab_type": "code",
    "id": "rxs8KfW5-KAs",
    "outputId": "83a8d3a7-3ea6-4a55-ef77-83e0f5aeef2e"
   },
   "outputs": [],
   "source": [
    "!pip install PyDrive\n",
    "\n",
    "from google.colab import drive\n",
    "drive.mount('/content/gdrive')"
   ]
  },
  {
   "cell_type": "code",
   "execution_count": null,
   "metadata": {},
   "outputs": [],
   "source": [
    "from pydrive.auth import GoogleAuth\n",
    "from pydrive.drive import GoogleDrive\n",
    "from google.colab import auth\n",
    "from oauth2client.client import GoogleCredentials"
   ]
  },
  {
   "cell_type": "code",
   "execution_count": null,
   "metadata": {},
   "outputs": [],
   "source": [
    "auth.authenticate_user()\n",
    "gauth = GoogleAuth()\n",
    "gauth.credentials = GoogleCredentials.get_application_default()\n",
    "drive = GoogleDrive(gauth)"
   ]
  },
  {
   "cell_type": "code",
   "execution_count": null,
   "metadata": {},
   "outputs": [],
   "source": [
    "if not os.path.exists('data'): \n",
    "    os.makedirs('data')\n",
    "\n",
    "downloaded = drive.CreateFile({'id':\"1wWsrN2Ep7x6lWqOXfr4rpKGYrJhWc8z7\"})   # replace the id with id of file you want to access\n",
    "downloaded.GetContentFile('speech-emotion-recognition-dataset.zip')\n",
    "\n",
    "!mv speech-emotion-recognition-dataset.zip data\n",
    "\n",
    "if not os.path.exists(data_directory): \n",
    "    os.makedirs(data_directory)\n",
    "\n",
    "!unzip data/speech-emotion-recognition-dataset.zip -d datasets/ravdess"
   ]
  },
  {
   "cell_type": "markdown",
   "metadata": {
    "colab_type": "text",
    "id": "-NSLd_Jo6_NP"
   },
   "source": [
    "## 2. Install and import libraries"
   ]
  },
  {
   "cell_type": "code",
   "execution_count": 2,
   "metadata": {
    "colab": {},
    "colab_type": "code",
    "id": "NP2lm4PC9oJV"
   },
   "outputs": [
    {
     "name": "stderr",
     "output_type": "stream",
     "text": [
      "C:\\Users\\huaiyukhaw\\anaconda3\\envs\\ml\\lib\\site-packages\\h5py\\__init__.py:36: FutureWarning: Conversion of the second argument of issubdtype from `float` to `np.floating` is deprecated. In future, it will be treated as `np.float64 == np.dtype(float).type`.\n",
      "  from ._conv import register_converters as _register_converters\n",
      "Using TensorFlow backend.\n"
     ]
    }
   ],
   "source": [
    "import librosa\n",
    "import soundfile\n",
    "import os, glob, pickle\n",
    "import numpy as np\n",
    "from sklearn.model_selection import train_test_split\n",
    "from sklearn.metrics import accuracy_score,classification_report, confusion_matrix, f1_score\n",
    "import pickle\n",
    "import keras\n",
    "from keras import layers, Sequential\n",
    "from keras.layers import Conv1D, Activation, Dropout, Dense, Flatten, MaxPooling1D\n",
    "from sklearn.preprocessing import LabelEncoder, OneHotEncoder\n",
    "from keras.utils import np_utils\n",
    "from tensorflow.keras import regularizers\n",
    "from matplotlib import pyplot as plt\n",
    "import seaborn as sn\n",
    "import pandas as pd\n",
    "import sklearn.metrics as metrics"
   ]
  },
  {
   "cell_type": "markdown",
   "metadata": {},
   "source": [
    "## 3. Functions"
   ]
  },
  {
   "cell_type": "markdown",
   "metadata": {
    "colab_type": "text",
    "id": "2TLMYSlYQDfk"
   },
   "source": [
    "Open the sound file with soundfile.SoundFile using with-as so it’s automatically closed once we’re done. Read from it and call it X. Also, get the sample rate. If chroma is True, get the Short-Time Fourier Transform of X.\n",
    "\n",
    "Let result be an empty numpy array. Now, for each feature of the three, if it exists, make a call to the corresponding function from librosa.feature (eg- librosa.feature.mfcc for mfcc), and get the mean value. Call the function hstack() from numpy with result and the feature value, and store this in result. hstack() stacks arrays in sequence horizontally (in a columnar fashion). Then, return the result."
   ]
  },
  {
   "cell_type": "code",
   "execution_count": 3,
   "metadata": {
    "colab": {},
    "colab_type": "code",
    "id": "KrDHoLWV91v0"
   },
   "outputs": [],
   "source": [
    "# Emotions in the RAVDESS dataset, different numbers represent different emotion\n",
    "emotions = {\n",
    "    '01':'neutral',\n",
    "    '02':'calm',\n",
    "    '03':'happy',\n",
    "    '04':'sad',\n",
    "    '05':'angry',\n",
    "    '06':'fearful',\n",
    "    '07':'disgust',\n",
    "    '08':'surprised'\n",
    "}"
   ]
  },
  {
   "cell_type": "markdown",
   "metadata": {},
   "source": [
    "**Extract features from audio files into numpy array**"
   ]
  },
  {
   "cell_type": "code",
   "execution_count": 4,
   "metadata": {
    "colab": {},
    "colab_type": "code",
    "id": "3dkfAawmtegf"
   },
   "outputs": [],
   "source": [
    "def extract_feature(data, sr, mfcc, chroma, mel):\n",
    "    \n",
    "    \"\"\"\n",
    "    extract features from audio files into numpy array\n",
    "    \n",
    "    Parameters\n",
    "    ----------\n",
    "    data : np.ndarray, audio time series\n",
    "    sr : number > 0, sampling rate\n",
    "    mfcc : boolean, Mel Frequency Cepstral Coefficient, represents the short-term power spectrum of a sound\n",
    "    chroma : boolean, pertains to the 12 different pitch classes\n",
    "    mel : boolean, Mel Spectrogram Frequency\n",
    "    \n",
    "    \"\"\"\n",
    "    \n",
    "    if chroma:                          \n",
    "        stft = np.abs(librosa.stft(data))  \n",
    "    result = np.array([])\n",
    "    if mfcc:                          \n",
    "        mfccs = np.mean(librosa.feature.mfcc(y=data, sr=sr, n_mfcc=40).T, axis=0)\n",
    "        result = np.hstack((result, mfccs))\n",
    "    if chroma:                          \n",
    "        chroma = np.mean(librosa.feature.chroma_stft(S=stft, sr=sr).T,axis=0)\n",
    "        result = np.hstack((result, chroma))\n",
    "    if mel:                             \n",
    "        mel = np.mean(librosa.feature.melspectrogram(data, sr=sr).T,axis=0)\n",
    "        result = np.hstack((result, mel))\n",
    "        \n",
    "    return result "
   ]
  },
  {
   "cell_type": "markdown",
   "metadata": {},
   "source": [
    "#### Data Augmentation Techniques\n",
    "There are two types of data augmentation for audio that we will be using\n",
    "\n",
    "- Noise addition - add random white noises to the audio\n",
    "- Shifting - shift the spectogram in a direction"
   ]
  },
  {
   "cell_type": "markdown",
   "metadata": {},
   "source": [
    "**Add white noise to the audio dataset**"
   ]
  },
  {
   "cell_type": "code",
   "execution_count": 5,
   "metadata": {
    "colab": {},
    "colab_type": "code",
    "id": "TQa4rqiRtcFE"
   },
   "outputs": [],
   "source": [
    "def noise(data, noise_factor):\n",
    "    \n",
    "    \"\"\"\n",
    "    add random white noises to the audio\n",
    "\n",
    "    Parameters\n",
    "    ----------\n",
    "    data : np.ndarray, audio time series\n",
    "    noise_factor : float, the measure of noise to be added \n",
    "\n",
    "    \"\"\"\n",
    "    noise = np.random.randn(len(data)) \n",
    "    augmented_data = data + noise_factor * noise\n",
    "    \n",
    "    # Cast back to same data type\n",
    "    augmented_data = augmented_data.astype(type(data[0]))\n",
    "    return augmented_data"
   ]
  },
  {
   "cell_type": "markdown",
   "metadata": {},
   "source": [
    "**Shift the spectogram in a direction**"
   ]
  },
  {
   "cell_type": "code",
   "execution_count": 6,
   "metadata": {},
   "outputs": [],
   "source": [
    "def shift(data, sampling_rate, shift_max, shift_direction):\n",
    "    \n",
    "    \"\"\"\n",
    "    shift the spectogram in a direction\n",
    "    \n",
    "    Parameters\n",
    "    ----------\n",
    "    data : np.ndarray, audio time series\n",
    "    sampling_rate : number > 0, sampling rate\n",
    "    shift_max : float, maximum shift rate\n",
    "    shift_direction : string, right/both\n",
    "    \n",
    "    \"\"\"\n",
    "    shift = np.random.randint(sampling_rate * shift_max)\n",
    "    if shift_direction == 'right':\n",
    "        shift = -shift\n",
    "    elif shift_direction == 'both':\n",
    "        direction = np.random.randint(0, 2)\n",
    "        if direction == 1:\n",
    "            shift = -shift\n",
    "    augmented_data = np.roll(data, shift)\n",
    "    if shift > 0:\n",
    "        augmented_data[:shift] = 0\n",
    "    else:\n",
    "        augmented_data[shift:] = 0\n",
    "        \n",
    "    return augmented_data"
   ]
  },
  {
   "cell_type": "markdown",
   "metadata": {},
   "source": [
    "**Loading dataset**\n",
    "\n",
    "There is a total of 8 emotions that can be observed in the RAVDESS dataset.\n",
    "\n",
    "Each file in the RAVDESS dataset has a unique filename. The filename consists of 7 numbers separated by dashes (e.g. 02-01-06-01-02-01-12.mp4). These numbers define the stimulus characteristics in the following order:\n",
    " \n",
    "Filename identifiers \n",
    "- Modality (01 = full-AV, 02 = video-only, 03 = audio-only)\n",
    "- Vocal channel (01 = speech, 02 = song)\n",
    "- Emotion (01 = neutral, 02 = calm, 03 = happy, 04 = sad, 05 = angry, 06 = fearful, 07 = disgust, 08 = surprised)\n",
    "- Emotional intensity (01 = normal, 02 = strong). NOTE: There is no strong intensity for the 'neutral' emotion.\n",
    "- Statement (01 = \"Kids are talking by the door\", 02 = \"Dogs are sitting by the door\")\n",
    "- Repetition (01 = 1st repetition, 02 = 2nd repetition)\n",
    "- Actor (01 to 24. Odd numbered actors are male, even numbered actors are female)atures, and label data**"
   ]
  },
  {
   "cell_type": "code",
   "execution_count": 7,
   "metadata": {
    "colab": {},
    "colab_type": "code",
    "id": "P4_I_nAj-F-G"
   },
   "outputs": [],
   "source": [
    "def load_data(save=False):\n",
    "    \n",
    "    \"\"\"\n",
    "    loading dataset\n",
    "\n",
    "    Parameters\n",
    "    ----------\n",
    "    save : boolean, save the data to disk as .npy\n",
    "\n",
    "    \"\"\"\n",
    "    x, y = [], []\n",
    "    for file in glob.glob(data_directory + \"/Actor_*/*.wav\"):\n",
    "        # load an audio file as a floating point time series.    \n",
    "        data, sr = librosa.load(file)\n",
    "        \n",
    "        # extract features from audio files into numpy array\n",
    "        feature = extract_feature(data, sr, mfcc=True, chroma=True, mel=True)\n",
    "        x.append(feature)\n",
    "\n",
    "        file_name = os.path.basename(file)\n",
    "        \n",
    "        # get emotion label from the file name\n",
    "        emotion = emotions[file_name.split(\"-\")[2]]  \n",
    "        y.append(emotion)\n",
    "\n",
    "        # add noise to the data\n",
    "        n_data = noise(data, 0.001)\n",
    "        n_feature = extract_feature(n_data, sr, mfcc=True, chroma=True, mel=True)\n",
    "        x.append(n_feature)\n",
    "        y.append(emotion)\n",
    "\n",
    "        # shift the data\n",
    "        s_data = shift(data,sr,0.25,'right')\n",
    "        s_feature = extract_feature(s_data, sr, mfcc=True, chroma=True, mel=True)\n",
    "        x.append(s_feature)\n",
    "        y.append(emotion)\n",
    "    \n",
    "    if save==True:\n",
    "        np.save('X', np.array(x))\n",
    "        np.save('y', y)\n",
    "        \n",
    "    return np.array(x), y"
   ]
  },
  {
   "cell_type": "markdown",
   "metadata": {},
   "source": [
    "## 3. Data processing"
   ]
  },
  {
   "cell_type": "markdown",
   "metadata": {},
   "source": [
    "**Read in, extract features, and label data**"
   ]
  },
  {
   "cell_type": "code",
   "execution_count": 8,
   "metadata": {
    "colab": {
     "base_uri": "https://localhost:8080/",
     "height": 50
    },
    "colab_type": "code",
    "id": "KVBdDy6fHXmC",
    "outputId": "39d99a5c-e648-4e69-e960-6dbbe3e95e27"
   },
   "outputs": [],
   "source": [
    "X, y = load_data(save=True)\n",
    "\n",
    "# X = np.load(\"X.npy\")\n",
    "# y = np.load(\"y.npy\")\n",
    "\n",
    "x_train, x_test, y_train, y_test = train_test_split(X, y, test_size=0.25, random_state=9)"
   ]
  },
  {
   "cell_type": "markdown",
   "metadata": {},
   "source": [
    "**Encode the data labels**"
   ]
  },
  {
   "cell_type": "code",
   "execution_count": 9,
   "metadata": {
    "colab": {
     "base_uri": "https://localhost:8080/",
     "height": 34
    },
    "colab_type": "code",
    "id": "ZpU2lMCytv4a",
    "outputId": "c52822f5-f9c3-498e-d8df-9536d8b34ede"
   },
   "outputs": [
    {
     "name": "stdout",
     "output_type": "stream",
     "text": [
      "{'angry': 0, 'calm': 1, 'disgust': 2, 'fearful': 3, 'happy': 4, 'neutral': 5, 'sad': 6, 'surprised': 7}\n"
     ]
    }
   ],
   "source": [
    "labelencoder = LabelEncoder()\n",
    "labelencoder.fit(y_train)\n",
    "le_name_mapping = dict(zip(labelencoder.classes_, labelencoder.transform(labelencoder.classes_)))\n",
    "print(le_name_mapping)\n",
    "\n",
    "y_train = labelencoder.transform(y_train)\n",
    "y_test = labelencoder.transform(y_test)"
   ]
  },
  {
   "cell_type": "code",
   "execution_count": 10,
   "metadata": {
    "colab": {
     "base_uri": "https://localhost:8080/",
     "height": 34
    },
    "colab_type": "code",
    "id": "E3m3KqnAMGa-",
    "outputId": "49c07350-c870-403f-f315-d93f69d42ff8"
   },
   "outputs": [
    {
     "name": "stdout",
     "output_type": "stream",
     "text": [
      "Features extracted: 180\n"
     ]
    }
   ],
   "source": [
    "# Get the number of features extracted\n",
    "print(f'Features extracted: {x_train.shape[1]}')"
   ]
  },
  {
   "cell_type": "markdown",
   "metadata": {},
   "source": [
    "## 4. Model training"
   ]
  },
  {
   "cell_type": "markdown",
   "metadata": {},
   "source": [
    "**Define the model and optimizer**"
   ]
  },
  {
   "cell_type": "code",
   "execution_count": 11,
   "metadata": {
    "colab": {},
    "colab_type": "code",
    "id": "Z91vAG9uj76d"
   },
   "outputs": [],
   "source": [
    "model = Sequential()\n",
    "model.add(Conv1D(256, 5,padding='same', input_shape=(180,1))) # 1st layer\n",
    "model.add(Activation('relu'))\n",
    "model.add(Conv1D(128, 5,padding='same', kernel_regularizer=regularizers.l1_l2(l1=1e-5, l2=1e-4))) # 2nd layer\n",
    "model.add(Activation('relu'))\n",
    "model.add(Dropout(0.1))\n",
    "model.add(MaxPooling1D(pool_size=(8)))\n",
    "model.add(Conv1D(128, 5,padding='same', kernel_regularizer=regularizers.l1_l2(l1=1e-5, l2=1e-4))) # 3rd layer\n",
    "model.add(Activation('relu'))\n",
    "model.add(Conv1D(128, 5,padding='same', kernel_regularizer=regularizers.l1_l2(l1=1e-5, l2=1e-4))) # 4th layer\n",
    "model.add(Activation('relu'))\n",
    "model.add(Dropout(0.5))\n",
    "model.add(Flatten())\n",
    "model.add(Dense(units=8,\n",
    "                kernel_regularizer=regularizers.l1_l2(l1=1e-5, l2=1e-4),\n",
    "                bias_regularizer=regularizers.l2(1e-4),\n",
    "                activity_regularizer=regularizers.l2(1e-5)\n",
    "                )\n",
    ") # 7th layer\n",
    "model.add(Activation('softmax'))\n",
    "opt = keras.optimizers.adam(decay=1e-6)"
   ]
  },
  {
   "cell_type": "code",
   "execution_count": 12,
   "metadata": {
    "colab": {},
    "colab_type": "code",
    "id": "Vhj8sfCDloab"
   },
   "outputs": [],
   "source": [
    "model.compile(loss='sparse_categorical_crossentropy', optimizer=opt,metrics=['accuracy'])"
   ]
  },
  {
   "cell_type": "markdown",
   "metadata": {},
   "source": [
    "**Start training the model**"
   ]
  },
  {
   "cell_type": "code",
   "execution_count": 13,
   "metadata": {
    "colab": {
     "base_uri": "https://localhost:8080/",
     "height": 1000
    },
    "colab_type": "code",
    "id": "8fJk3sHyMNuY",
    "outputId": "1f1644c5-4a41-48c8-8760-b00c6948bb72"
   },
   "outputs": [
    {
     "name": "stdout",
     "output_type": "stream",
     "text": [
      "Train on 3240 samples, validate on 1080 samples\n",
      "Epoch 1/100\n",
      "3240/3240 [==============================] - 13s 4ms/step - loss: 2.2908 - accuracy: 0.2182 - val_loss: 1.9666 - val_accuracy: 0.2963\n",
      "Epoch 2/100\n",
      "3240/3240 [==============================] - 12s 4ms/step - loss: 1.9333 - accuracy: 0.3198 - val_loss: 1.8253 - val_accuracy: 0.3880\n",
      "Epoch 3/100\n",
      "3240/3240 [==============================] - 12s 4ms/step - loss: 1.8155 - accuracy: 0.3793 - val_loss: 1.7237 - val_accuracy: 0.3981\n",
      "Epoch 4/100\n",
      "3240/3240 [==============================] - 12s 4ms/step - loss: 1.7252 - accuracy: 0.4056 - val_loss: 1.6974 - val_accuracy: 0.4102\n",
      "Epoch 5/100\n",
      "3240/3240 [==============================] - 12s 4ms/step - loss: 1.6437 - accuracy: 0.4364 - val_loss: 1.5928 - val_accuracy: 0.4685\n",
      "Epoch 6/100\n",
      "3240/3240 [==============================] - 12s 4ms/step - loss: 1.5536 - accuracy: 0.4849 - val_loss: 1.4920 - val_accuracy: 0.5102\n",
      "Epoch 7/100\n",
      "3240/3240 [==============================] - 12s 4ms/step - loss: 1.4588 - accuracy: 0.5117 - val_loss: 1.3969 - val_accuracy: 0.5454\n",
      "Epoch 8/100\n",
      "3240/3240 [==============================] - 12s 4ms/step - loss: 1.3917 - accuracy: 0.5373 - val_loss: 1.3678 - val_accuracy: 0.5593\n",
      "Epoch 9/100\n",
      "3240/3240 [==============================] - 12s 4ms/step - loss: 1.3339 - accuracy: 0.5660 - val_loss: 1.3357 - val_accuracy: 0.5639\n",
      "Epoch 10/100\n",
      "3240/3240 [==============================] - 12s 4ms/step - loss: 1.2962 - accuracy: 0.5883 - val_loss: 1.2681 - val_accuracy: 0.6213\n",
      "Epoch 11/100\n",
      "3240/3240 [==============================] - 12s 4ms/step - loss: 1.2140 - accuracy: 0.6185 - val_loss: 1.2570 - val_accuracy: 0.5954\n",
      "Epoch 12/100\n",
      "3240/3240 [==============================] - 12s 4ms/step - loss: 1.1733 - accuracy: 0.6278 - val_loss: 1.2785 - val_accuracy: 0.6148\n",
      "Epoch 13/100\n",
      "3240/3240 [==============================] - 12s 4ms/step - loss: 1.1159 - accuracy: 0.6593 - val_loss: 1.1065 - val_accuracy: 0.6861\n",
      "Epoch 14/100\n",
      "3240/3240 [==============================] - 12s 4ms/step - loss: 1.0439 - accuracy: 0.6852 - val_loss: 1.0801 - val_accuracy: 0.7000\n",
      "Epoch 15/100\n",
      "3240/3240 [==============================] - 12s 4ms/step - loss: 0.9957 - accuracy: 0.7123 - val_loss: 1.0186 - val_accuracy: 0.7287\n",
      "Epoch 16/100\n",
      "3240/3240 [==============================] - 12s 4ms/step - loss: 0.9426 - accuracy: 0.7377 - val_loss: 1.0300 - val_accuracy: 0.7111\n",
      "Epoch 17/100\n",
      "3240/3240 [==============================] - 12s 4ms/step - loss: 0.8783 - accuracy: 0.7485 - val_loss: 0.9368 - val_accuracy: 0.7389\n",
      "Epoch 18/100\n",
      "3240/3240 [==============================] - 12s 4ms/step - loss: 0.8462 - accuracy: 0.7608 - val_loss: 0.9078 - val_accuracy: 0.7574\n",
      "Epoch 19/100\n",
      "3240/3240 [==============================] - 13s 4ms/step - loss: 0.7735 - accuracy: 0.7954 - val_loss: 0.9257 - val_accuracy: 0.7685\n",
      "Epoch 20/100\n",
      "3240/3240 [==============================] - 12s 4ms/step - loss: 0.7611 - accuracy: 0.8043 - val_loss: 0.8534 - val_accuracy: 0.7944\n",
      "Epoch 21/100\n",
      "3240/3240 [==============================] - 13s 4ms/step - loss: 0.7239 - accuracy: 0.8250 - val_loss: 0.8085 - val_accuracy: 0.8074\n",
      "Epoch 22/100\n",
      "3240/3240 [==============================] - 13s 4ms/step - loss: 0.6844 - accuracy: 0.8358 - val_loss: 0.8050 - val_accuracy: 0.8231\n",
      "Epoch 23/100\n",
      "3240/3240 [==============================] - 12s 4ms/step - loss: 0.6400 - accuracy: 0.8580 - val_loss: 0.7609 - val_accuracy: 0.8250\n",
      "Epoch 24/100\n",
      "3240/3240 [==============================] - 12s 4ms/step - loss: 0.6267 - accuracy: 0.8583 - val_loss: 0.7813 - val_accuracy: 0.8324\n",
      "Epoch 25/100\n",
      "3240/3240 [==============================] - 13s 4ms/step - loss: 0.5891 - accuracy: 0.8762 - val_loss: 0.7225 - val_accuracy: 0.8287\n",
      "Epoch 26/100\n",
      "3240/3240 [==============================] - 12s 4ms/step - loss: 0.5643 - accuracy: 0.8809 - val_loss: 0.7292 - val_accuracy: 0.8463\n",
      "Epoch 27/100\n",
      "3240/3240 [==============================] - 10s 3ms/step - loss: 0.5497 - accuracy: 0.8883 - val_loss: 0.6901 - val_accuracy: 0.8500\n",
      "Epoch 28/100\n",
      "3240/3240 [==============================] - 8s 2ms/step - loss: 0.5179 - accuracy: 0.8988 - val_loss: 0.6998 - val_accuracy: 0.8481\n",
      "Epoch 29/100\n",
      "3240/3240 [==============================] - 8s 2ms/step - loss: 0.5191 - accuracy: 0.9049 - val_loss: 0.6737 - val_accuracy: 0.8648\n",
      "Epoch 30/100\n",
      "3240/3240 [==============================] - 8s 3ms/step - loss: 0.4910 - accuracy: 0.9157 - val_loss: 0.6902 - val_accuracy: 0.8546\n",
      "Epoch 31/100\n",
      "3240/3240 [==============================] - 8s 2ms/step - loss: 0.4798 - accuracy: 0.9167 - val_loss: 0.6532 - val_accuracy: 0.8815\n",
      "Epoch 32/100\n",
      "3240/3240 [==============================] - 7s 2ms/step - loss: 0.4689 - accuracy: 0.9256 - val_loss: 0.6694 - val_accuracy: 0.8648\n",
      "Epoch 33/100\n",
      "3240/3240 [==============================] - 7s 2ms/step - loss: 0.4490 - accuracy: 0.9302 - val_loss: 0.6288 - val_accuracy: 0.8704\n",
      "Epoch 34/100\n",
      "3240/3240 [==============================] - 7s 2ms/step - loss: 0.4258 - accuracy: 0.9435 - val_loss: 0.6365 - val_accuracy: 0.8796\n",
      "Epoch 35/100\n",
      "3240/3240 [==============================] - 7s 2ms/step - loss: 0.4128 - accuracy: 0.9432 - val_loss: 0.6146 - val_accuracy: 0.8722\n",
      "Epoch 36/100\n",
      "3240/3240 [==============================] - 7s 2ms/step - loss: 0.4181 - accuracy: 0.9426 - val_loss: 0.5983 - val_accuracy: 0.8833\n",
      "Epoch 37/100\n",
      "3240/3240 [==============================] - 7s 2ms/step - loss: 0.4058 - accuracy: 0.9534 - val_loss: 0.6248 - val_accuracy: 0.8824\n",
      "Epoch 38/100\n",
      "3240/3240 [==============================] - 7s 2ms/step - loss: 0.3891 - accuracy: 0.9586 - val_loss: 0.6597 - val_accuracy: 0.8750\n",
      "Epoch 39/100\n",
      "3240/3240 [==============================] - 7s 2ms/step - loss: 0.4088 - accuracy: 0.9478 - val_loss: 0.6218 - val_accuracy: 0.8769\n",
      "Epoch 40/100\n",
      "3240/3240 [==============================] - 7s 2ms/step - loss: 0.3946 - accuracy: 0.9528 - val_loss: 0.6090 - val_accuracy: 0.8806\n",
      "Epoch 41/100\n",
      "3240/3240 [==============================] - 7s 2ms/step - loss: 0.3899 - accuracy: 0.9549 - val_loss: 0.6009 - val_accuracy: 0.8796\n",
      "Epoch 42/100\n",
      "3240/3240 [==============================] - 7s 2ms/step - loss: 0.3743 - accuracy: 0.9608 - val_loss: 0.6529 - val_accuracy: 0.8787\n",
      "Epoch 43/100\n",
      "3240/3240 [==============================] - 7s 2ms/step - loss: 0.3919 - accuracy: 0.9549 - val_loss: 0.6218 - val_accuracy: 0.8759\n",
      "Epoch 44/100\n",
      "3240/3240 [==============================] - 8s 3ms/step - loss: 0.3922 - accuracy: 0.9549 - val_loss: 0.6408 - val_accuracy: 0.8713\n",
      "Epoch 45/100\n",
      "3240/3240 [==============================] - 8s 2ms/step - loss: 0.3775 - accuracy: 0.9596 - val_loss: 0.5999 - val_accuracy: 0.8833\n",
      "Epoch 46/100\n",
      "3240/3240 [==============================] - 8s 2ms/step - loss: 0.3546 - accuracy: 0.9679 - val_loss: 0.6050 - val_accuracy: 0.8750\n",
      "Epoch 47/100\n",
      "3240/3240 [==============================] - 7s 2ms/step - loss: 0.3455 - accuracy: 0.9722 - val_loss: 0.5881 - val_accuracy: 0.8769\n",
      "Epoch 48/100\n",
      "3240/3240 [==============================] - 8s 2ms/step - loss: 0.3284 - accuracy: 0.9765 - val_loss: 0.5639 - val_accuracy: 0.8907\n",
      "Epoch 49/100\n",
      "3240/3240 [==============================] - 8s 2ms/step - loss: 0.3252 - accuracy: 0.9762 - val_loss: 0.5749 - val_accuracy: 0.8889\n",
      "Epoch 50/100\n",
      "3240/3240 [==============================] - 8s 2ms/step - loss: 0.3300 - accuracy: 0.9762 - val_loss: 0.5998 - val_accuracy: 0.8833\n",
      "Epoch 51/100\n",
      "3240/3240 [==============================] - 8s 2ms/step - loss: 0.3113 - accuracy: 0.9802 - val_loss: 0.5932 - val_accuracy: 0.8843\n",
      "Epoch 52/100\n",
      "3240/3240 [==============================] - 7s 2ms/step - loss: 0.3053 - accuracy: 0.9830 - val_loss: 0.5692 - val_accuracy: 0.8907\n",
      "Epoch 53/100\n",
      "3240/3240 [==============================] - 7s 2ms/step - loss: 0.3087 - accuracy: 0.9787 - val_loss: 0.5842 - val_accuracy: 0.8861\n",
      "Epoch 54/100\n",
      "3240/3240 [==============================] - 7s 2ms/step - loss: 0.3059 - accuracy: 0.9827 - val_loss: 0.5735 - val_accuracy: 0.8861\n",
      "Epoch 55/100\n",
      "3240/3240 [==============================] - 6s 2ms/step - loss: 0.2940 - accuracy: 0.9873 - val_loss: 0.5491 - val_accuracy: 0.8898\n",
      "Epoch 56/100\n",
      "3240/3240 [==============================] - 6s 2ms/step - loss: 0.2979 - accuracy: 0.9843 - val_loss: 0.5723 - val_accuracy: 0.8944\n",
      "Epoch 57/100\n",
      "3240/3240 [==============================] - 6s 2ms/step - loss: 0.2969 - accuracy: 0.9864 - val_loss: 0.5755 - val_accuracy: 0.8935\n",
      "Epoch 58/100\n",
      "3240/3240 [==============================] - 7s 2ms/step - loss: 0.2890 - accuracy: 0.9895 - val_loss: 0.5606 - val_accuracy: 0.8954\n",
      "Epoch 59/100\n",
      "3240/3240 [==============================] - 6s 2ms/step - loss: 0.2979 - accuracy: 0.9815 - val_loss: 0.5789 - val_accuracy: 0.8833\n",
      "Epoch 60/100\n",
      "3240/3240 [==============================] - 6s 2ms/step - loss: 0.3451 - accuracy: 0.9664 - val_loss: 0.5745 - val_accuracy: 0.8852\n",
      "Epoch 61/100\n",
      "3240/3240 [==============================] - 7s 2ms/step - loss: 0.3262 - accuracy: 0.9747 - val_loss: 0.5969 - val_accuracy: 0.8824\n",
      "Epoch 62/100\n",
      "3240/3240 [==============================] - 7s 2ms/step - loss: 0.3017 - accuracy: 0.9818 - val_loss: 0.5472 - val_accuracy: 0.8981\n",
      "Epoch 63/100\n",
      "3240/3240 [==============================] - 7s 2ms/step - loss: 0.2945 - accuracy: 0.9858 - val_loss: 0.5522 - val_accuracy: 0.8944\n",
      "Epoch 64/100\n",
      "3240/3240 [==============================] - 7s 2ms/step - loss: 0.2910 - accuracy: 0.9883 - val_loss: 0.5792 - val_accuracy: 0.8954\n",
      "Epoch 65/100\n",
      "3240/3240 [==============================] - 6s 2ms/step - loss: 0.2891 - accuracy: 0.9861 - val_loss: 0.5756 - val_accuracy: 0.8824\n",
      "Epoch 66/100\n",
      "3240/3240 [==============================] - 6s 2ms/step - loss: 0.3013 - accuracy: 0.9784 - val_loss: 0.5677 - val_accuracy: 0.8880\n",
      "Epoch 67/100\n",
      "3240/3240 [==============================] - 6s 2ms/step - loss: 0.2862 - accuracy: 0.9867 - val_loss: 0.5623 - val_accuracy: 0.8852\n",
      "Epoch 68/100\n",
      "3240/3240 [==============================] - 6s 2ms/step - loss: 0.2856 - accuracy: 0.9864 - val_loss: 0.5504 - val_accuracy: 0.8935\n",
      "Epoch 69/100\n",
      "3240/3240 [==============================] - 6s 2ms/step - loss: 0.2786 - accuracy: 0.9898 - val_loss: 0.5422 - val_accuracy: 0.8907\n",
      "Epoch 70/100\n",
      "3240/3240 [==============================] - 6s 2ms/step - loss: 0.2763 - accuracy: 0.9886 - val_loss: 0.5630 - val_accuracy: 0.8926\n",
      "Epoch 71/100\n",
      "3240/3240 [==============================] - 6s 2ms/step - loss: 0.2810 - accuracy: 0.9889 - val_loss: 0.5826 - val_accuracy: 0.8935\n",
      "Epoch 72/100\n",
      "3240/3240 [==============================] - 6s 2ms/step - loss: 0.2724 - accuracy: 0.9904 - val_loss: 0.5439 - val_accuracy: 0.9037\n",
      "Epoch 73/100\n",
      "3240/3240 [==============================] - 6s 2ms/step - loss: 0.2584 - accuracy: 0.9951 - val_loss: 0.5267 - val_accuracy: 0.8944\n",
      "Epoch 74/100\n",
      "3240/3240 [==============================] - 7s 2ms/step - loss: 0.2704 - accuracy: 0.9880 - val_loss: 0.5427 - val_accuracy: 0.8963\n",
      "Epoch 75/100\n",
      "3240/3240 [==============================] - 7s 2ms/step - loss: 0.2728 - accuracy: 0.9883 - val_loss: 0.5655 - val_accuracy: 0.8889\n",
      "Epoch 76/100\n",
      "3240/3240 [==============================] - 7s 2ms/step - loss: 0.2666 - accuracy: 0.9926 - val_loss: 0.5501 - val_accuracy: 0.8954\n",
      "Epoch 77/100\n",
      "3240/3240 [==============================] - 7s 2ms/step - loss: 0.2807 - accuracy: 0.9843 - val_loss: 0.5555 - val_accuracy: 0.8898\n",
      "Epoch 78/100\n",
      "3240/3240 [==============================] - 6s 2ms/step - loss: 0.2889 - accuracy: 0.9799 - val_loss: 0.5336 - val_accuracy: 0.8944\n",
      "Epoch 79/100\n",
      "3240/3240 [==============================] - 7s 2ms/step - loss: 0.2848 - accuracy: 0.9864 - val_loss: 0.5803 - val_accuracy: 0.8907\n",
      "Epoch 80/100\n",
      "3240/3240 [==============================] - 6s 2ms/step - loss: 0.2700 - accuracy: 0.9901 - val_loss: 0.5552 - val_accuracy: 0.9093\n",
      "Epoch 81/100\n",
      "3240/3240 [==============================] - 7s 2ms/step - loss: 0.2688 - accuracy: 0.9889 - val_loss: 0.5599 - val_accuracy: 0.8935\n",
      "Epoch 82/100\n",
      "3240/3240 [==============================] - 6s 2ms/step - loss: 0.2607 - accuracy: 0.9917 - val_loss: 0.5663 - val_accuracy: 0.8843\n",
      "Epoch 83/100\n",
      "3240/3240 [==============================] - 6s 2ms/step - loss: 0.2686 - accuracy: 0.9877 - val_loss: 0.5644 - val_accuracy: 0.8935\n",
      "Epoch 84/100\n",
      "3240/3240 [==============================] - 6s 2ms/step - loss: 0.2699 - accuracy: 0.9895 - val_loss: 0.5423 - val_accuracy: 0.8991\n",
      "Epoch 85/100\n",
      "3240/3240 [==============================] - 6s 2ms/step - loss: 0.2754 - accuracy: 0.9864 - val_loss: 0.5287 - val_accuracy: 0.9000\n",
      "Epoch 86/100\n",
      "3240/3240 [==============================] - 7s 2ms/step - loss: 0.2636 - accuracy: 0.9892 - val_loss: 0.5775 - val_accuracy: 0.8870\n",
      "Epoch 87/100\n",
      "3240/3240 [==============================] - 7s 2ms/step - loss: 0.2699 - accuracy: 0.9880 - val_loss: 0.5289 - val_accuracy: 0.8944\n",
      "Epoch 88/100\n",
      "3240/3240 [==============================] - 7s 2ms/step - loss: 0.2602 - accuracy: 0.9901 - val_loss: 0.5380 - val_accuracy: 0.9037\n",
      "Epoch 89/100\n",
      "3240/3240 [==============================] - 7s 2ms/step - loss: 0.2527 - accuracy: 0.9948 - val_loss: 0.5595 - val_accuracy: 0.8898\n",
      "Epoch 90/100\n",
      "3240/3240 [==============================] - 7s 2ms/step - loss: 0.2541 - accuracy: 0.9929 - val_loss: 0.5364 - val_accuracy: 0.8917\n",
      "Epoch 91/100\n",
      "3240/3240 [==============================] - 6s 2ms/step - loss: 0.2533 - accuracy: 0.9898 - val_loss: 0.5570 - val_accuracy: 0.8824\n",
      "Epoch 92/100\n",
      "3240/3240 [==============================] - 6s 2ms/step - loss: 0.2399 - accuracy: 0.9963 - val_loss: 0.5321 - val_accuracy: 0.8926\n",
      "Epoch 93/100\n",
      "3240/3240 [==============================] - 6s 2ms/step - loss: 0.2417 - accuracy: 0.9948 - val_loss: 0.5196 - val_accuracy: 0.8972\n",
      "Epoch 94/100\n",
      "3240/3240 [==============================] - 6s 2ms/step - loss: 0.2483 - accuracy: 0.9935 - val_loss: 0.5482 - val_accuracy: 0.8926\n",
      "Epoch 95/100\n",
      "3240/3240 [==============================] - 6s 2ms/step - loss: 0.2348 - accuracy: 0.9969 - val_loss: 0.5196 - val_accuracy: 0.9009\n",
      "Epoch 96/100\n",
      "3240/3240 [==============================] - 6s 2ms/step - loss: 0.2347 - accuracy: 0.9944 - val_loss: 0.5110 - val_accuracy: 0.8981\n",
      "Epoch 97/100\n",
      "3240/3240 [==============================] - 6s 2ms/step - loss: 0.2332 - accuracy: 0.9969 - val_loss: 0.5354 - val_accuracy: 0.8944\n",
      "Epoch 98/100\n",
      "3240/3240 [==============================] - 6s 2ms/step - loss: 0.2349 - accuracy: 0.9963 - val_loss: 0.5202 - val_accuracy: 0.8944\n",
      "Epoch 99/100\n",
      "3240/3240 [==============================] - 6s 2ms/step - loss: 0.2294 - accuracy: 0.9969 - val_loss: 0.5408 - val_accuracy: 0.8926\n",
      "Epoch 100/100\n",
      "3240/3240 [==============================] - 6s 2ms/step - loss: 0.2317 - accuracy: 0.9957 - val_loss: 0.5386 - val_accuracy: 0.8880\n"
     ]
    }
   ],
   "source": [
    "XProccessed = np.expand_dims(x_train, axis=2)\n",
    "XTestProcessed = np.expand_dims(x_test, axis=2)\n",
    "history = model.fit(XProccessed, y_train, epochs=100, validation_data=(XTestProcessed, y_test), batch_size=64)"
   ]
  },
  {
   "cell_type": "markdown",
   "metadata": {},
   "source": [
    "## 5. Model evaluation\n",
    "\n",
    "- plot learning curve\n",
    "- draw confusion matrix\n",
    "- calculate F1 score"
   ]
  },
  {
   "cell_type": "markdown",
   "metadata": {},
   "source": [
    "**Plot the learning curve of the model with its accuracy**"
   ]
  },
  {
   "cell_type": "code",
   "execution_count": 14,
   "metadata": {
    "colab": {
     "base_uri": "https://localhost:8080/",
     "height": 295
    },
    "colab_type": "code",
    "id": "GSx6sGNF6TDN",
    "outputId": "b7d52aad-8df1-4112-ab78-f7c873266d2b"
   },
   "outputs": [
    {
     "data": {
      "image/png": "[encoded data removed]",
      "text/plain": [
       "<Figure size 432x288 with 1 Axes>"
      ]
     },
     "metadata": {
      "needs_background": "light"
     },
     "output_type": "display_data"
    }
   ],
   "source": [
    "plt.plot(history.history['accuracy'])\n",
    "plt.plot(history.history['val_accuracy'])\n",
    "plt.title('Model accuracy')\n",
    "plt.ylabel('Accuracy')\n",
    "plt.xlabel('Epoch')\n",
    "plt.legend(['Train', 'Val'], loc='upper left')\n",
    "plt.show()"
   ]
  },
  {
   "cell_type": "code",
   "execution_count": 15,
   "metadata": {
    "colab": {
     "base_uri": "https://localhost:8080/",
     "height": 295
    },
    "colab_type": "code",
    "id": "o8E9tx9p6aI6",
    "outputId": "cc86cebd-427c-4a1e-8046-f0cb80efc6f4"
   },
   "outputs": [
    {
     "data": {
      "image/png": "[encoded data removed]",
      "text/plain": [
       "<Figure size 432x288 with 1 Axes>"
      ]
     },
     "metadata": {
      "needs_background": "light"
     },
     "output_type": "display_data"
    }
   ],
   "source": [
    "plt.plot(history.history['loss'])\n",
    "plt.plot(history.history['val_loss'])\n",
    "plt.title('Model Loss')\n",
    "plt.ylabel('Loss')\n",
    "plt.xlabel('Epoch')\n",
    "plt.legend(['Train', 'Val'], loc='upper left')\n",
    "plt.show()"
   ]
  },
  {
   "cell_type": "markdown",
   "metadata": {},
   "source": [
    "**Use the test data to do prediction**"
   ]
  },
  {
   "cell_type": "code",
   "execution_count": 16,
   "metadata": {
    "colab": {
     "base_uri": "https://localhost:8080/",
     "height": 447
    },
    "colab_type": "code",
    "id": "0GPl8LvUMz1Q",
    "outputId": "6c56f8d7-2add-474c-c59f-4ee6b0cbadfd"
   },
   "outputs": [],
   "source": [
    "y_pred = model.predict(XTestProcessed)"
   ]
  },
  {
   "cell_type": "markdown",
   "metadata": {},
   "source": [
    "**Draw a confusion matrix**"
   ]
  },
  {
   "cell_type": "code",
   "execution_count": 17,
   "metadata": {},
   "outputs": [
    {
     "data": {
      "text/plain": [
       "<matplotlib.axes._subplots.AxesSubplot at 0x1acd259e2e8>"
      ]
     },
     "execution_count": 17,
     "metadata": {},
     "output_type": "execute_result"
    },
    {
     "data": {
      "image/png": "[encoded data removed]",
      "text/plain": [
       "<Figure size 720x504 with 2 Axes>"
      ]
     },
     "metadata": {
      "needs_background": "light"
     },
     "output_type": "display_data"
    }
   ],
   "source": [
    "confusion_emotions = ['angry', 'calm', 'disgust', 'fearful','happy','neutral','sad','surprised']\n",
    "cm=metrics.confusion_matrix(y_test,np.argmax(y_pred,axis=-1))\n",
    "df_cm=pd.DataFrame(cm,index=[i for i in confusion_emotions],columns=[i for i in confusion_emotions])\n",
    "plt.figure(figsize=(10,7))\n",
    "sn.heatmap(df_cm,annot=True)"
   ]
  },
  {
   "cell_type": "markdown",
   "metadata": {},
   "source": [
    "**Calculate the F1 score of the model**\n",
    "\n",
    "F1 score is a measure of a test's accuracy. F1 score combines precision and recall relative to a specific positive class - The F1 score can be interpreted as a weighted average of the precision and recall, where an F1 score reaches its best value at 1 and worst at 0"
   ]
  },
  {
   "cell_type": "code",
   "execution_count": 18,
   "metadata": {
    "colab": {
     "base_uri": "https://localhost:8080/",
     "height": 34
    },
    "colab_type": "code",
    "id": "6mmKluZuDNBV",
    "outputId": "edd74bce-fef6-4483-fb72-03c753c37836"
   },
   "outputs": [
    {
     "data": {
      "text/plain": [
       "0.8886246256820012"
      ]
     },
     "execution_count": 18,
     "metadata": {},
     "output_type": "execute_result"
    }
   ],
   "source": [
    "f1_score(y_test,np.argmax(y_pred,axis=-1),average='weighted')"
   ]
  },
  {
   "cell_type": "markdown",
   "metadata": {},
   "source": [
    "**Model summary**"
   ]
  },
  {
   "cell_type": "code",
   "execution_count": 19,
   "metadata": {
    "colab": {
     "base_uri": "https://localhost:8080/",
     "height": 756
    },
    "colab_type": "code",
    "id": "i14sMnKX71vi",
    "outputId": "fcaa6bb4-6772-4aac-b59e-dab63292c3f6"
   },
   "outputs": [
    {
     "name": "stdout",
     "output_type": "stream",
     "text": [
      "Model: \"sequential_1\"\n",
      "_________________________________________________________________\n",
      "Layer (type)                 Output Shape              Param #   \n",
      "=================================================================\n",
      "conv1d_1 (Conv1D)            (None, 180, 256)          1536      \n",
      "_________________________________________________________________\n",
      "activation_1 (Activation)    (None, 180, 256)          0         \n",
      "_________________________________________________________________\n",
      "conv1d_2 (Conv1D)            (None, 180, 128)          163968    \n",
      "_________________________________________________________________\n",
      "activation_2 (Activation)    (None, 180, 128)          0         \n",
      "_________________________________________________________________\n",
      "dropout_1 (Dropout)          (None, 180, 128)          0         \n",
      "_________________________________________________________________\n",
      "max_pooling1d_1 (MaxPooling1 (None, 22, 128)           0         \n",
      "_________________________________________________________________\n",
      "conv1d_3 (Conv1D)            (None, 22, 128)           82048     \n",
      "_________________________________________________________________\n",
      "activation_3 (Activation)    (None, 22, 128)           0         \n",
      "_________________________________________________________________\n",
      "conv1d_4 (Conv1D)            (None, 22, 128)           82048     \n",
      "_________________________________________________________________\n",
      "activation_4 (Activation)    (None, 22, 128)           0         \n",
      "_________________________________________________________________\n",
      "dropout_2 (Dropout)          (None, 22, 128)           0         \n",
      "_________________________________________________________________\n",
      "flatten_1 (Flatten)          (None, 2816)              0         \n",
      "_________________________________________________________________\n",
      "dense_1 (Dense)              (None, 8)                 22536     \n",
      "_________________________________________________________________\n",
      "activation_5 (Activation)    (None, 8)                 0         \n",
      "=================================================================\n",
      "Total params: 352,136\n",
      "Trainable params: 352,136\n",
      "Non-trainable params: 0\n",
      "_________________________________________________________________\n"
     ]
    }
   ],
   "source": [
    "model.summary()"
   ]
  },
  {
   "cell_type": "markdown",
   "metadata": {
    "colab_type": "text",
    "id": "vfK5x2xYaT1b"
   },
   "source": [
    "## 6. Save and load the trained model."
   ]
  },
  {
   "cell_type": "code",
   "execution_count": 20,
   "metadata": {
    "colab": {},
    "colab_type": "code",
    "id": "LRvXWVLnXpIz"
   },
   "outputs": [],
   "source": [
    "# Save the trained model to disk\n",
    "if not os.path.exists('models'): \n",
    "    os.makedirs('models')\n",
    "\n",
    "model.save(\"models/cnn.h5\")"
   ]
  },
  {
   "cell_type": "code",
   "execution_count": 21,
   "metadata": {
    "colab": {},
    "colab_type": "code",
    "id": "RkvSeCMnZQC7"
   },
   "outputs": [],
   "source": [
    "# Load the model from disk\n",
    "loaded_model = keras.models.load_model(\"models/cnn.h5\")"
   ]
  },
  {
   "cell_type": "markdown",
   "metadata": {
    "colab_type": "text",
    "id": "mvzVxxyKhImN"
   },
   "source": [
    "## 7. Playground"
   ]
  },
  {
   "cell_type": "code",
   "execution_count": 22,
   "metadata": {
    "colab": {},
    "colab_type": "code",
    "id": "mXnthrw8dKKj"
   },
   "outputs": [],
   "source": [
    "# Load the data and extract features for each sound file\n",
    "def load_single_data(file):\n",
    "    x, y = [], []\n",
    "    file_name = os.path.basename(file)\n",
    "    emotion = emotions[file_name.split(\"-\")[2]]\n",
    "    data, sr = librosa.load(file)\n",
    "    feature = extract_feature(data, sr, mfcc=True, chroma=True, mel=True)\n",
    "    x.append(feature)\n",
    "    y.append(emotion)\n",
    "    return np.array(x), y"
   ]
  },
  {
   "cell_type": "code",
   "execution_count": null,
   "metadata": {},
   "outputs": [],
   "source": [
    "XX, yy = load_single_data(\"data/ravdess/Actor_01/03-01-05-02-02-02-01.wav\")"
   ]
  },
  {
   "cell_type": "code",
   "execution_count": 24,
   "metadata": {
    "colab": {},
    "colab_type": "code",
    "id": "JLn2FU7Af0uZ"
   },
   "outputs": [
    {
     "data": {
      "text/plain": [
       "['angry']"
      ]
     },
     "execution_count": 24,
     "metadata": {},
     "output_type": "execute_result"
    }
   ],
   "source": [
    "yy"
   ]
  },
  {
   "cell_type": "code",
   "execution_count": 25,
   "metadata": {
    "colab": {},
    "colab_type": "code",
    "id": "cgYZ5g-kf2qY"
   },
   "outputs": [],
   "source": [
    "# Predict for the test set\n",
    "XXTemp=np.expand_dims(XX, axis=2)\n",
    "XX, yy = load_single_data(\"data/ravdess/Actor_01/03-01-05-02-02-02-01.wav\") = model.predict(XXTemp)\n"
   ]
  },
  {
   "cell_type": "code",
   "execution_count": 26,
   "metadata": {
    "colab": {},
    "colab_type": "code",
    "id": "FQ5read3gFV5"
   },
   "outputs": [
    {
     "data": {
      "text/plain": [
       "[array([9.9690741e-01, 3.8878224e-04, 7.4552448e-04, 1.0804559e-04,\n",
       "        6.8968389e-04, 2.3291443e-04, 6.7373371e-04, 2.5409379e-04],\n",
       "       dtype=float32)]"
      ]
     },
     "execution_count": 26,
     "metadata": {},
     "output_type": "execute_result"
    }
   ],
   "source": [
    "list(y_pred)"
   ]
  }
 ],
 "metadata": {
  "accelerator": "TPU",
  "colab": {
   "collapsed_sections": [],
   "name": "Speech Emotion Recognition CNN",
   "provenance": [],
   "toc_visible": true
  },
  "kernelspec": {
   "display_name": "Python [conda env:ml]",
   "language": "python",
   "name": "conda-env-ml-py"
  },
  "language_info": {
   "codemirror_mode": {
    "name": "ipython",
    "version": 3
   },
   "file_extension": ".py",
   "mimetype": "text/x-python",
   "name": "python",
   "nbconvert_exporter": "python",
   "pygments_lexer": "ipython3",
   "version": "3.6.10"
  }
 },
 "nbformat": 4,
 "nbformat_minor": 4
}
